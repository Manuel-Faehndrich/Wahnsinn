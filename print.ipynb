{
 "cells": [
  {
   "source": [
    "Grundlagen-Ausgaben(print)\n",
    "\n",
    "Es gibt eigentlich keine Python-Programme, die nicht in irgendeiner Weise dem Benutzer eine Antwort/Ausgabe geben. Ein Programm gibt so gut wie imer Ergebnisse aus. Damit du einen Text oder eine Variable ausgeben kannst, brauchst du die print() Anweisung bzw. den print() Befehl.\n",
    "Wenn du einen Text auseben willst, sind die \"\" wichtig, unten geben wir nun das Wort Hallo aus."
   ],
   "cell_type": "markdown",
   "metadata": {}
  },
  {
   "cell_type": "code",
   "execution_count": 7,
   "id": "previous-piano",
   "metadata": {},
   "outputs": [
    {
     "output_type": "stream",
     "name": "stdout",
     "text": [
      "Hallo\n"
     ]
    }
   ],
   "source": [
    "print(\"Hallo\")"
   ]
  },
  {
   "source": [
    "Wenn du den Wert einer Variable ausgeben willst, musst du zuvor eine Variable deklarieren und in der print-Anweisungen den Namen der Variable hinein schreiben. Es nur wichtig, dass du bei der Variable keine \"\" verwendest, sonst würdest du wieder einen Text ausgeben."
   ],
   "cell_type": "markdown",
   "metadata": {}
  },
  {
   "cell_type": "code",
   "execution_count": 8,
   "metadata": {},
   "outputs": [
    {
     "output_type": "stream",
     "name": "stdout",
     "text": [
      "3\n"
     ]
    }
   ],
   "source": [
    "a=3\n",
    "print(a)"
   ]
  },
  {
   "source": [
    "Du kannst natürlich auch einen Text und Variablen gleichzeitig in einem print Befehl ausgeben. Hierfür addieren wir zwei Variablen und geben dann die Lösung und einen Lösungsatz aus. "
   ],
   "cell_type": "markdown",
   "metadata": {}
  },
  {
   "cell_type": "code",
   "execution_count": 9,
   "metadata": {},
   "outputs": [
    {
     "output_type": "stream",
     "name": "stdout",
     "text": [
      "Die Lösung ist: 6\n"
     ]
    }
   ],
   "source": [
    "a=3\n",
    "b=3\n",
    "c=a+b\n",
    "print(\"Die Lösung ist:\",c)"
   ]
  },
  {
   "cell_type": "code",
   "execution_count": null,
   "metadata": {},
   "outputs": [],
   "source": []
  }
 ],
 "metadata": {
  "kernelspec": {
   "name": "python385jvsc74a57bd0d4ab19728e857e8d7d83dd7d2363694c17334db082f43aebb511ffb3f6805f31",
   "display_name": "Python 3.8.5 32-bit"
  },
  "language_info": {
   "codemirror_mode": {
    "name": "ipython",
    "version": 3
   },
   "file_extension": ".py",
   "mimetype": "text/x-python",
   "name": "python",
   "nbconvert_exporter": "python",
   "pygments_lexer": "ipython3",
   "version": "3.8.5"
  },
  "metadata": {
   "interpreter": {
    "hash": "d4ab19728e857e8d7d83dd7d2363694c17334db082f43aebb511ffb3f6805f31"
   }
  }
 },
 "nbformat": 4,
 "nbformat_minor": 5
}