{
 "cells": [
  {
   "source": [
    "Grundlagen-Ausgaben(print)\n",
    "\n",
    "Es gibt eigentlich keine Python-Programme, die nicht in irgendeiner Weise dem Benutzer eine Antwort/Ausgabe geben. Ein Programm gibt so gut wie imer Ergebnisse aus. Damit du einen Text oder eine Variable ausgeben kannst, brauchst du die print() Anweisung bzw. den print() Befehl.\n",
    "Wenn du einen Text auseben willst, sind die \"\" wichtig, unten geben wir nun das Wort Hallo aus."
   ],
   "cell_type": "markdown",
   "metadata": {}
  },
  {
   "cell_type": "code",
   "execution_count": 7,
   "id": "previous-piano",
   "metadata": {},
   "outputs": [
    {
     "output_type": "stream",
     "name": "stdout",
     "text": [
      "Hallo\n"
     ]
    }
   ],
   "source": [
    "print(\"Hallo\")"
   ]
  },
  {
   "source": [
    "Wenn du den Wert einer Variable ausgeben willst, musst du zuvor eine Variable deklarieren und in der print-Anweisungen den Namen der Variable hinein schreiben. Es nur wichtig, dass du bei der Variable keine \"\" verwendest, sonst würdest du wieder einen Text ausgeben."
   ],
   "cell_type": "markdown",
   "metadata": {}
  },
  {
   "cell_type": "code",
   "execution_count": 1,
   "metadata": {},
   "outputs": [
    {
     "output_type": "stream",
     "name": "stdout",
     "text": [
      "3\n"
     ]
    }
   ],
   "source": [
    "a=3\n",
    "print(a)"
   ]
  },
  {
   "source": [
    "Du kannst natürlich auch einen Text und Variablen gleichzeitig in einem print Befehl ausgeben. Hierfür addieren wir zwei Variablen und geben dann die Lösung und einen Lösungsatz aus. Es ist wieder wichtig, dass du den Satz unter Anführungszeichen setzt, und die Variable nicht! Außerdem muss du bei einer \"gemischten\" Ausgabe vor der Variable einen Beistrich setzten."
   ],
   "cell_type": "markdown",
   "metadata": {}
  },
  {
   "cell_type": "code",
   "execution_count": 9,
   "metadata": {},
   "outputs": [
    {
     "output_type": "stream",
     "name": "stdout",
     "text": [
      "Die Lösung ist: 6\n"
     ]
    }
   ],
   "source": [
    "a=3\n",
    "b=3\n",
    "c=a+b\n",
    "print(\"Die Lösung ist:\",c)"
   ]
  },
  {
   "source": [
    "Es gibt noch weitere Arten wie du einen Print-Befehl ausführen kannst. Wie zum Beispiel die String-Formatierung. Diese Art der Ausgabe begreift man am besten mit einem Beispiel."
   ],
   "cell_type": "markdown",
   "metadata": {}
  },
  {
   "cell_type": "code",
   "execution_count": 9,
   "metadata": {},
   "outputs": [
    {
     "output_type": "stream",
     "name": "stdout",
     "text": [
      "Meine Name ist Michael\n"
     ]
    }
   ],
   "source": [
    "name = \"Michael\"\n",
    "print(\"Meine Name ist %s\" % (name))"
   ]
  },
  {
   "source": [
    "Mit dem % Zeichen fügst du quasi den Namen ein, du kannst es dir als Platzhalter vorstellen. Es ist nur wichtig das du bei einem String, also bei Wörter und Sätzen den Platzhalter %s verwendest. Bei Zahlen verwendest du %d, dies werden wir gleich an einem weiteren Beispiel sehen."
   ],
   "cell_type": "markdown",
   "metadata": {}
  },
  {
   "cell_type": "code",
   "execution_count": 1,
   "metadata": {},
   "outputs": [
    {
     "output_type": "stream",
     "name": "stdout",
     "text": [
      "Die Zahl ist 5\n"
     ]
    }
   ],
   "source": [
    "a=5\n",
    "print(\"Die Zahl ist %d\" %(a))"
   ]
  },
  {
   "source": [
    "Bei print Befehlen kannst du auch Zeilenumbrüche einfügen, um die Ausgabe übersichtlicher zu machen. Dafür verwendest du \\n. Mit einem Beispiel wirst du es am besten sehen."
   ],
   "cell_type": "markdown",
   "metadata": {}
  },
  {
   "cell_type": "code",
   "execution_count": 3,
   "metadata": {},
   "outputs": [
    {
     "output_type": "stream",
     "name": "stdout",
     "text": [
      "Mein Name ist Michael\nich bin 17 Jahre alt\nund wohne in Rinn \n"
     ]
    }
   ],
   "source": [
    "print(\"Mein Name ist Michael\\nich bin 17 Jahre alt\\nund wohne in Rinn \")"
   ]
  },
  {
   "source": [
    "Jetzt können wir die oberen Beispiele zu einem kleineren Programm zusammenfügen und verwenden gleich \\n um einen Zeilenumbruch zu erzeugen."
   ],
   "cell_type": "markdown",
   "metadata": {}
  },
  {
   "cell_type": "code",
   "execution_count": 12,
   "metadata": {},
   "outputs": [
    {
     "output_type": "stream",
     "name": "stdout",
     "text": [
      "Mein Name ist Michael\n und ich bin 17 alt.\n"
     ]
    }
   ],
   "source": [
    "name=\"Michael\"\n",
    "a=17\n",
    "print(\"Mein Name ist %s\\n\"%(name),\"und ich bin %d alt.\"%(a))"
   ]
  },
  {
   "source": [
    "Das einzige Problem ist jetzt, dass in der zweiten Zeile ein Leerzeichen zu viel ist. Um kein Leerzeichen mehr zu haben, muss du nur statt dem Beistrich ein + schreiben."
   ],
   "cell_type": "markdown",
   "metadata": {}
  },
  {
   "cell_type": "code",
   "execution_count": 13,
   "metadata": {},
   "outputs": [
    {
     "output_type": "stream",
     "name": "stdout",
     "text": [
      "Mein Name ist Michael\nund ich bin 17 alt.\n"
     ]
    }
   ],
   "source": [
    "name=\"Michael\"\n",
    "a=17\n",
    "print(\"Mein Name ist %s\\n\"%(name)+\"und ich bin %d alt.\"%(a))"
   ]
  },
  {
   "cell_type": "code",
   "execution_count": null,
   "metadata": {},
   "outputs": [],
   "source": []
  }
 ],
 "metadata": {
  "kernelspec": {
   "name": "python385jvsc74a57bd01f4fc8dcb423da3c0203bc453929ff6ff316eab86e7cbec2b23fee2f4fb037e0",
   "display_name": "Python 3.8.5 64-bit ('base': conda)"
  },
  "language_info": {
   "codemirror_mode": {
    "name": "ipython",
    "version": 3
   },
   "file_extension": ".py",
   "mimetype": "text/x-python",
   "name": "python",
   "nbconvert_exporter": "python",
   "pygments_lexer": "ipython3",
   "version": "3.8.5"
  },
  "metadata": {
   "interpreter": {
    "hash": "d4ab19728e857e8d7d83dd7d2363694c17334db082f43aebb511ffb3f6805f31"
   }
  }
 },
 "nbformat": 4,
 "nbformat_minor": 5
}