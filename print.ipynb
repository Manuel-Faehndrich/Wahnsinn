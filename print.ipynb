{
 "cells": [
  {
   "cell_type": "markdown",
   "id": "suspended-nerve",
   "metadata": {},
   "source": [
    "Print Datei"
   ]
  },
  {
   "cell_type": "code",
   "execution_count": 1,
   "id": "previous-piano",
   "metadata": {},
   "outputs": [
    {
     "output_type": "stream",
     "name": "stdout",
     "text": [
      "Hallo\n"
     ]
    }
   ],
   "source": [
    "print(\"Hallo\")"
   ]
  }
 ],
 "metadata": {
  "kernelspec": {
   "name": "python385jvsc74a57bd01f4fc8dcb423da3c0203bc453929ff6ff316eab86e7cbec2b23fee2f4fb037e0",
   "display_name": "Python 3.8.5 64-bit ('base': conda)"
  },
  "language_info": {
   "codemirror_mode": {
    "name": "ipython",
    "version": 3
   },
   "file_extension": ".py",
   "mimetype": "text/x-python",
   "name": "python",
   "nbconvert_exporter": "python",
   "pygments_lexer": "ipython3",
   "version": "3.8.5"
  }
 },
 "nbformat": 4,
 "nbformat_minor": 5
}