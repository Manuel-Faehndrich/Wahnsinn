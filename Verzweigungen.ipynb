{
 "metadata": {
  "language_info": {
   "codemirror_mode": {
    "name": "ipython",
    "version": 3
   },
   "file_extension": ".py",
   "mimetype": "text/x-python",
   "name": "python",
   "nbconvert_exporter": "python",
   "pygments_lexer": "ipython3",
   "version": "3.8.5"
  },
  "orig_nbformat": 2,
  "kernelspec": {
   "name": "python385jvsc74a57bd01f4fc8dcb423da3c0203bc453929ff6ff316eab86e7cbec2b23fee2f4fb037e0",
   "display_name": "Python 3.8.5 64-bit ('base': conda)"
  }
 },
 "nbformat": 4,
 "nbformat_minor": 2,
 "cells": [
  {
   "source": [
    "In diesem Kapitel geht es um Verzweigungen, wir werden jetzt if, elif und else besprechen und klären wofür man diese Befehle braucht."
   ],
   "cell_type": "markdown",
   "metadata": {}
  },
  {
   "source": [
    "Vorerst müssen wir klären was Operanten sind, Operanten sind zeichen die man verwendet um festezustellen in welchem Verhältnis Werte zueinander stehen. Hierfür verwenden wir folgende Operanten:\n",
    "\n",
    "a == b: zwei istgleich Zeichen überprüfen ob ein Wert genau gleich wie ein anderer ist.\n",
    "\n",
    "a < b : Hier wird überprüft ob a kleiner ist wie b.\n",
    "\n",
    "a > b : Hier wird überprüft ob a größer wie b ist.\n",
    "\n",
    "a != b: Hier wird überprüft ob a ungleich b ist.\n",
    "\n",
    "a <= b: Hier wird überprüft ob a kleiner oder gleich b ist.\n",
    "\n",
    "a >= b: Hier wird überprüft ob a größer oder gleich b ist.\n"
   ],
   "cell_type": "markdown",
   "metadata": {}
  },
  {
   "source": [
    "if wird benötigt wenn man möchte das ein bestimmter Codeteil nur in einer bestimmten Situation abläuft. In diesem Beispiel werden wir einen Wert definieren und nur wenn dieser der if-bediengung entspricht geht es im Code weiter. Am leichtesten kannstu du dir dies Vorstellen wenn du dir den Code als Satz vorstellst. if = wenn daraus folgt: \n",
    "\n",
    "Wenn a gleich 4 ist wird die Bediengung die unter der wenn bediengung steht ausgeführt"
   ],
   "cell_type": "markdown",
   "metadata": {}
  },
  {
   "cell_type": "code",
   "execution_count": 2,
   "metadata": {},
   "outputs": [
    {
     "output_type": "stream",
     "name": "stdout",
     "text": [
      "a ist 4\n"
     ]
    }
   ],
   "source": [
    "a = 4\n",
    "\n",
    "if a > 4:\n",
    "    print(\"a ist 4\")\n",
    "if a == 3:\n",
    "    print(\"a ist 3\")"
   ]
  },
  {
   "source": [
    "Nun fällt auf das die Bediengung mit a = 3 nie erfüllt wird und deswegen niemals a ist 3 ausgegeben wird."
   ],
   "cell_type": "markdown",
   "metadata": {}
  },
  {
   "source": [
    "Was passiert nun wenn nie eine Bedingung zutirfft in so einem fall gibt es keine ausgabe und der Code läuft ohne das wir es in der Konsole sehen ab und beendet sich."
   ],
   "cell_type": "markdown",
   "metadata": {}
  },
  {
   "cell_type": "code",
   "execution_count": 2,
   "metadata": {},
   "outputs": [],
   "source": [
    "a = 5\n",
    "\n",
    "if a == 2:\n",
    "    print(\"a ist 2\")"
   ]
  },
  {
   "source": [
    "Du fragst dich jetzt sicher was es mit dem else auf sich hat. else wird immer dann verwendet wenn keine Bediengung zutrifft wenn keine if oder elif Bediengung zutrifft wird automatisch die else Bediengung ausgeführt."
   ],
   "cell_type": "markdown",
   "metadata": {}
  },
  {
   "cell_type": "code",
   "execution_count": 4,
   "metadata": {},
   "outputs": [
    {
     "output_type": "stream",
     "name": "stdout",
     "text": [
      "Keine Bediengung trifft zu\n"
     ]
    }
   ],
   "source": [
    "a = 6\n",
    "\n",
    "if a < 3:\n",
    "    print(\"a ist 3\")\n",
    "if a < 4:\n",
    "    print(\"a ist 4\")\n",
    "if a <= 5:\n",
    "    print(\"a ist 5\")\n",
    "else:\n",
    "    print(\"Keine Bediengung trifft zu\")"
   ]
  },
  {
   "source": [
    "Was ist nun der Unterschied zwischen if und elif bei if die abfrage beginnt ganz oben und arbeitet sich schritt für schritt herunter sollte nun eine Bediengung erfüllt sein wird diese ausgeführt. Sind alle Bediengungen mit if geschrieben wird auch nach der ausführung der Bediengung weiter geprüft ob vielleicht noch eine Bediengung zutrifft. Bei elif wird nach ausführen der Bediengung nicht weiter geprüft ob eine weitere Bediengung zutrifft und im Code vortgesetzt.\n",
    "\n",
    "Wie man nun so einen Code mit elif schreibt zeigt folgendes Codebeispiel:"
   ],
   "cell_type": "markdown",
   "metadata": {}
  },
  {
   "cell_type": "code",
   "execution_count": 3,
   "metadata": {},
   "outputs": [
    {
     "output_type": "stream",
     "name": "stdout",
     "text": [
      "a ist 4\n"
     ]
    }
   ],
   "source": [
    "a = 4\n",
    "\n",
    "if a == 3:\n",
    "    print(\"a ist 3\")\n",
    "elif a <= 4:\n",
    "    print(\"a ist 4\")\n",
    "elif a == 5:\n",
    "    print(\"a ist 5\")"
   ]
  },
  {
   "source": [
    "Im obrigen Code wird nachdem festgestellt wurde, dass die 1 elif Bediengung zutrifft nicht mehr überprüft ob die 2 elif Bediengung zutrifft."
   ],
   "cell_type": "markdown",
   "metadata": {}
  },
  {
   "source": [
    "Es ist auch möglich eine if-Bediengung in eine andere \"hineinzuschreiben\" somit können mehrere Bediengungen in eine geschrieben werden trifft also eine zu wird wieder geprüft ob eine weitere Bediengung zutrifft. Im unteren Code-Beispiel wird a = a + 1 verwendet in dieser Zeile wird zu a 1 addiert somit erhöht isch a um 1."
   ],
   "cell_type": "markdown",
   "metadata": {}
  },
  {
   "cell_type": "code",
   "execution_count": null,
   "metadata": {},
   "outputs": [],
   "source": [
    "a = 4\n",
    "\n",
    "if a == 3:\n",
    "    print(\"a ist 3\")\n",
    "elif a == 4:\n",
    "    print(\"a ist 4\")\n",
    "    a = a + 1\n",
    "    if a < 4:\n",
    "        print(\"a ist auch kleiner als 4 sobald 1 subtrahiert wird\")\n",
    "    elif a > 4:\n",
    "        print(\"a ist auch größer als 4 sobald 1 addiert wird\")\n",
    "elif a == 5:\n",
    "    print(\"a ist 5\")"
   ]
  },
  {
   "source": [
    "Als interaktives Beispiel wählen wir eine Berechnung des Schaltjahres du gibst ein Jahr ein und durch die if-Bediengung wird ermittelt ob dieses Jahr ein Schaltjahr ist oder nicht."
   ],
   "cell_type": "markdown",
   "metadata": {}
  },
  {
   "cell_type": "code",
   "execution_count": 9,
   "metadata": {},
   "outputs": [
    {
     "output_type": "stream",
     "name": "stdout",
     "text": [
      "8 ist ein Schaltjahr\n"
     ]
    }
   ],
   "source": [
    "jahr = int(input(\"Geben sie das Jahr an: \"))      \n",
    "if (jahr % 4 == 0):\n",
    "    if (jahr % 100 != 0):\n",
    "        print(jahr, \"ist ein Schaltjahr\")\n",
    "    elif (jahr % 400 == 0):\n",
    "        print(jahr, \"ist ein Schaltjahr\")\n",
    "else:\n",
    "    print(jahr , \" ist kein Schaltjahr\")"
   ]
  },
  {
   "source": [
    "In manchen fällen brauchen wir auch eine Funktion die es uns erlaubt einen if-Bedingung einfach zu \"überspringen dies passiert mit pass"
   ],
   "cell_type": "markdown",
   "metadata": {}
  },
  {
   "source": [
    "Zur erklärung bei if (jahr %4 == 0)\n",
    "das % Zeichen steht für dividieren. Es wird jahr mit der Zahl die nach dem % Zeichen kommt dividiert und geprüft ob diese Division 0 ergibt sollt zum Schluss == 5 stehen wird geprüft ob die Division 5 ergibt."
   ],
   "cell_type": "markdown",
   "metadata": {}
  },
  {
   "cell_type": "code",
   "execution_count": 15,
   "metadata": {},
   "outputs": [
    {
     "output_type": "stream",
     "name": "stdout",
     "text": [
      "erstes if wurde 'übersprungen' und das zweite if wurde ausgeführt\n"
     ]
    }
   ],
   "source": [
    "a = 1\n",
    "if a != 0:\n",
    "    pass\n",
    "if a == 1:\n",
    "    print(\"erstes if wurde 'übersprungen' und das zweite if wurde ausgeführt\")"
   ]
  },
  {
   "cell_type": "code",
   "execution_count": null,
   "metadata": {},
   "outputs": [],
   "source": []
  }
 ]
}