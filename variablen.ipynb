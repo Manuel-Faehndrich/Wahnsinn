{
 "cells": [
  {
   "cell_type": "markdown",
   "id": "hispanic-qualification",
   "metadata": {},
   "source": [
    "Grundlagen-Python-Variablen\n",
    "Der Umgang mit Variablen ist einfach und bei der Programmierung dennoch wichtig.\n",
    "Im Beispiel darunter werden wir ein einfaches Programm schreiben, welches zwei Variablen addiert und dann ausgibt. "
   ]
  },
  {
   "cell_type": "markdown",
   "id": "continent-average",
   "metadata": {},
   "source": [
    "Zuerst musst du einer Variable einen Wert zuweisen, somit geben wir dem Speicherbereich einen eindeutigen Wert. Unsere erste Variable nennen wir a und weisen ihr 1 als Wert zu."
   ]
  },
  {
   "cell_type": "code",
   "execution_count": 1,
   "id": "transsexual-melissa",
   "metadata": {},
   "outputs": [],
   "source": [
    "a=1"
   ]
  },
  {
   "cell_type": "markdown",
   "id": "tender-restoration",
   "metadata": {},
   "source": [
    "Als nächstes müssen wir einer zweiten/neuen Variable wieder einen Wert zuweisen. Diesmal weisen wir der Variable b den Wert 2 zu."
   ]
  },
  {
   "cell_type": "code",
   "execution_count": 2,
   "id": "still-spectrum",
   "metadata": {},
   "outputs": [],
   "source": [
    "b=2"
   ]
  },
  {
   "cell_type": "markdown",
   "id": "tracked-prince",
   "metadata": {},
   "source": [
    "Nun müssen wir die beiden Variablen addieren, dazu benötigen wir wieder eine neue Variable und in dieser werden die Variablen a und b zusammen addiert. Dazu verwenden wir die Variable c."
   ]
  },
  {
   "cell_type": "code",
   "execution_count": 3,
   "id": "worldwide-nitrogen",
   "metadata": {},
   "outputs": [],
   "source": [
    "c=a+b"
   ]
  },
  {
   "cell_type": "markdown",
   "id": "turned-frank",
   "metadata": {},
   "source": [
    "Nun müssen wir das Ergebnis auch ausgeben. Dafür wird in Python der Befehl print() verwendet. Mit diesem Befehl kann man Texte und Variablen ausgeben, wichtig sind die \"\" bei einem Satz/Wort, bei der Ausgabe von einer Variable werden keine \"\" verwendet, sonst wird die Variable als Buchstabe angesehen und nicht als der zugewiesen Wert."
   ]
  },
  {
   "cell_type": "code",
   "execution_count": 4,
   "id": "exempt-elimination",
   "metadata": {},
   "outputs": [
    {
     "output_type": "stream",
     "name": "stdout",
     "text": [
      "Das Ergebnis ist: 3\n"
     ]
    }
   ],
   "source": [
    "print(\"Das Ergebnis ist:\",c)"
   ]
  },
  {
   "cell_type": "markdown",
   "id": "caring-record",
   "metadata": {},
   "source": [
    "Man kann auch mehreren Variablen zugleich den selben Wert zuweisen."
   ]
  },
  {
   "source": [
    "d=e=1\n",
    "f=2\n",
    "g=e+f\n",
    "print(\"Das Ergebnis ist:\",g)"
   ],
   "cell_type": "code",
   "metadata": {},
   "execution_count": 5,
   "outputs": [
    {
     "output_type": "stream",
     "name": "stdout",
     "text": [
      "Das Ergebnis ist: 3\n"
     ]
    }
   ]
  },
  {
   "source": [
    "Desweiteren kannst du zwischen folgenden Daten-typen unterscheiden:\n",
    "\n",
    "Für Ganze Zahlen verwendet man int (integer) ein beispiel wäre dafür "
   ],
   "cell_type": "markdown",
   "metadata": {}
  },
  {
   "cell_type": "code",
   "execution_count": 6,
   "metadata": {},
   "outputs": [],
   "source": [
    "t = 4"
   ]
  },
  {
   "source": [
    "Der Output sieht hier wiefolgt aus:"
   ],
   "cell_type": "markdown",
   "metadata": {}
  },
  {
   "cell_type": "code",
   "execution_count": 7,
   "metadata": {},
   "outputs": [
    {
     "output_type": "stream",
     "name": "stdout",
     "text": [
      "4\n"
     ]
    }
   ],
   "source": [
    "print(t)"
   ]
  },
  {
   "source": [
    "Wenn du eine Gleitkommazahl verwendest, ist hinter dieser der Datentyp float hinterlegt. \n",
    "\n",
    "Der Output für den Datentyp float sieht wie folgt aus:"
   ],
   "cell_type": "markdown",
   "metadata": {}
  },
  {
   "cell_type": "code",
   "execution_count": 8,
   "metadata": {},
   "outputs": [
    {
     "output_type": "execute_result",
     "data": {
      "text/plain": [
       "4.0"
      ]
     },
     "metadata": {},
     "execution_count": 8
    }
   ],
   "source": [
    "float(t)"
   ]
  },
  {
   "source": [
    "Wenn du einen Wert auswerten möchtest, um zu wissen ob ein Wert richtig (True) oder falsch ist (False), verwendest du bool \n",
    "\n",
    "mit bool kannst du den boolschen Wert, also False oder True ausgeben. Grundsätzlich sind alle Werte True, es sei denn, sie sind leer, false, 0 oder none. "
   ],
   "cell_type": "markdown",
   "metadata": {}
  },
  {
   "cell_type": "code",
   "execution_count": 9,
   "metadata": {},
   "outputs": [
    {
     "output_type": "execute_result",
     "data": {
      "text/plain": [
       "False"
      ]
     },
     "metadata": {},
     "execution_count": 9
    }
   ],
   "source": [
    "bool()"
   ]
  },
  {
   "cell_type": "code",
   "execution_count": 10,
   "metadata": {},
   "outputs": [
    {
     "output_type": "execute_result",
     "data": {
      "text/plain": [
       "True"
      ]
     },
     "metadata": {},
     "execution_count": 10
    }
   ],
   "source": [
    "bool(2)"
   ]
  },
  {
   "source": [
    "Natürlich ist es auch möglich, dass du einen Integer Wert mit einem float Wert addieren, subtrahieren, multipliziern oder auch dividieren. Wenn du dies jedoch machen möchtest, muss dir bewusst sein, dass hierbei immer ein float Wert entsteht. \n",
    "\n",
    "Um das ganze zu veranschaulichen, hier ein Beispiel:"
   ],
   "cell_type": "markdown",
   "metadata": {}
  },
  {
   "cell_type": "code",
   "execution_count": 1,
   "metadata": {},
   "outputs": [
    {
     "output_type": "stream",
     "name": "stdout",
     "text": [
      "Das Ergebnis ist: 8.5\n"
     ]
    }
   ],
   "source": [
    "h = 4\n",
    "p = 4.5\n",
    "j = h + p\n",
    "print(\"Das Ergebnis ist:\",j)"
   ]
  },
  {
   "source": [
    "Wenn du dir nicht sicher bist welchen Datenwert eine Variable hat, kannst du dies mit einem Befehl ermitteln, dies geschieht mit type(Variable) ein Beispiel hier:"
   ],
   "cell_type": "markdown",
   "metadata": {}
  },
  {
   "cell_type": "code",
   "execution_count": 3,
   "metadata": {},
   "outputs": [
    {
     "output_type": "execute_result",
     "data": {
      "text/plain": [
       "float"
      ]
     },
     "metadata": {},
     "execution_count": 3
    }
   ],
   "source": [
    "u = 4.5\n",
    "type(u)\n"
   ]
  },
  {
   "source": [
    "Wie du bereits gelernt hast, ist jede Gleitkommazahl ein float Wert. Wenn du dir jedoch immernoch unsicher bist, kannst du dies mit dem obrigen Befehl ermitteln."
   ],
   "cell_type": "markdown",
   "metadata": {}
  },
  {
   "source": [
    "Du kannst Datentypen auch verändern, so kannst du aus einem Integer Wert einen Bool Wert machen. Dies geschieht mit folgendem Befehl."
   ],
   "cell_type": "markdown",
   "metadata": {}
  },
  {
   "cell_type": "code",
   "execution_count": 3,
   "metadata": {},
   "outputs": [
    {
     "output_type": "stream",
     "name": "stdout",
     "text": [
      "True\n"
     ]
    }
   ],
   "source": [
    "i = 3\n",
    "a = bool(i)\n",
    "print(a)"
   ]
  },
  {
   "cell_type": "code",
   "execution_count": null,
   "metadata": {},
   "outputs": [],
   "source": []
  }
 ],
 "metadata": {
  "kernelspec": {
   "name": "python385jvsc74a57bd01f4fc8dcb423da3c0203bc453929ff6ff316eab86e7cbec2b23fee2f4fb037e0",
   "display_name": "Python 3.8.5 64-bit ('base': conda)"
  },
  "language_info": {
   "codemirror_mode": {
    "name": "ipython",
    "version": 3
   },
   "file_extension": ".py",
   "mimetype": "text/x-python",
   "name": "python",
   "nbconvert_exporter": "python",
   "pygments_lexer": "ipython3",
   "version": "3.8.5"
  },
  "metadata": {
   "interpreter": {
    "hash": "de072921dc87486613898b1ef56959cc98c50a630fb49de1898fb32d92a683cf"
   }
  }
 },
 "nbformat": 4,
 "nbformat_minor": 5
}