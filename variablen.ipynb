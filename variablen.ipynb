{
 "cells": [
  {
   "cell_type": "markdown",
   "id": "hispanic-qualification",
   "metadata": {},
   "source": [
    "Grundlagen-Python-Variablen\n",
    "Der Umgang mit Variablen ist einfach und bei der Programmierung dennoch wichtig.\n",
    "Im Beispiel darunter werden wir ein einfaches Programm schreiben, welches zwei Variablen addiert und dann ausgibt. "
   ]
  },
  {
   "cell_type": "markdown",
   "id": "continent-average",
   "metadata": {},
   "source": [
    "Zuerst musst du einer Variable einen Wert zuweisen(sowie im Matheunterricht in einer Angabe, zB:x=1). Unsere erste Variable nennen wir a und weisen ihr 1 als Wert zu."
   ]
  },
  {
   "cell_type": "code",
   "execution_count": 13,
   "id": "transsexual-melissa",
   "metadata": {},
   "outputs": [],
   "source": [
    "a=1"
   ]
  },
  {
   "cell_type": "markdown",
   "id": "tender-restoration",
   "metadata": {},
   "source": [
    "Als nächstes müssen wir einer zweiten/neuen Variable wieder einen Wert zuweisen. Diesmal weisen wir der Variable b den Wert 2 zu."
   ]
  },
  {
   "cell_type": "code",
   "execution_count": 14,
   "id": "still-spectrum",
   "metadata": {},
   "outputs": [],
   "source": [
    "b=2"
   ]
  },
  {
   "cell_type": "markdown",
   "id": "tracked-prince",
   "metadata": {},
   "source": [
    "Nun müssen wir die beiden Variablen addieren, dazu benötigen wir wieder eine neue Variable und in dieser werden die Variablen a und b zusammen addiert. Dazu verwenden wir die Variable c."
   ]
  },
  {
   "cell_type": "code",
   "execution_count": 15,
   "id": "worldwide-nitrogen",
   "metadata": {},
   "outputs": [],
   "source": [
    "c=a+b"
   ]
  },
  {
   "cell_type": "markdown",
   "id": "turned-frank",
   "metadata": {},
   "source": [
    "Nun müssen wir das Ergebnis auch ausgeben. Dafür wird in Python der Befehl print() verwendet. Mit diesem Befehl kann man Texte und Variablen ausgeben, wichtig sind die \"\" bei einem Satz/Wort, bei der Ausgabe von einer Variable werden keine \"\" verwendet, sonst wird die Variable als Buchstabe angesehen und nicht als der zugewiesen Wert."
   ]
  },
  {
   "cell_type": "code",
   "execution_count": 16,
   "id": "exempt-elimination",
   "metadata": {},
   "outputs": [
    {
     "output_type": "stream",
     "name": "stdout",
     "text": [
      "Das Ergebnis ist: 3\n"
     ]
    }
   ],
   "source": [
    "print(\"Das Ergebnis ist:\",c)"
   ]
  },
  {
   "cell_type": "markdown",
   "id": "caring-record",
   "metadata": {},
   "source": [
    "Man kann auch mehreren Variablen zugleich den selben Wert zuweisen."
   ]
  },
  {
   "source": [
    "d=e=1\n",
    "f=2\n",
    "g=e+f\n",
    "print(\"Das Ergebnis ist:\",g)"
   ],
   "cell_type": "code",
   "metadata": {},
   "execution_count": null,
   "outputs": []
  },
  {
   "source": [
    "Das ist ein Test"
   ],
   "cell_type": "markdown",
   "metadata": {}
  },
  {
   "cell_type": "code",
   "execution_count": null,
   "metadata": {},
   "outputs": [],
   "source": [
    "k = 5"
   ]
  }
 ],
 "metadata": {
  "kernelspec": {
   "display_name": "Python 3",
   "language": "python",
   "name": "python3"
  },
  "language_info": {
   "codemirror_mode": {
    "name": "ipython",
    "version": 3
   },
   "file_extension": ".py",
   "mimetype": "text/x-python",
   "name": "python",
   "nbconvert_exporter": "python",
   "pygments_lexer": "ipython3",
   "version": "3.8.5"
  }
 },
 "nbformat": 4,
 "nbformat_minor": 5
}